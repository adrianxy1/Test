{
 "cells": [
  {
   "cell_type": "code",
   "execution_count": null,
   "id": "f5db7ae5-916d-44c3-96d5-3c2be78abc28",
   "metadata": {},
   "outputs": [],
   "source": [
    "####Personal Details"
   ]
  },
  {
   "cell_type": "code",
   "execution_count": 1,
   "id": "1a0fb5ad-3ad2-4c13-ba49-ff65863c2063",
   "metadata": {},
   "outputs": [],
   "source": [
    "Adr = {\n",
    "    \"Full Name\": \"Clyne Robby\",\n",
    "    \"Age\":26,\n",
    "    \"Country\": \"Kenya\",\n",
    "    \"Marital Status\": \"Complicated\",\n",
    "}"
   ]
  },
  {
   "cell_type": "code",
   "execution_count": 2,
   "id": "8fdcba59-4d2a-4547-b668-2da2a5fbf7ef",
   "metadata": {},
   "outputs": [
    {
     "data": {
      "text/plain": [
       "'Clyne Robby'"
      ]
     },
     "execution_count": 2,
     "metadata": {},
     "output_type": "execute_result"
    }
   ],
   "source": [
    "Adr[\"Full Name\"]"
   ]
  },
  {
   "cell_type": "code",
   "execution_count": null,
   "id": "5d846d3f-a884-4cf4-84cd-0b0a35898615",
   "metadata": {},
   "outputs": [],
   "source": []
  }
 ],
 "metadata": {
  "kernelspec": {
   "display_name": "Python 3 (ipykernel)",
   "language": "python",
   "name": "python3"
  },
  "language_info": {
   "codemirror_mode": {
    "name": "ipython",
    "version": 3
   },
   "file_extension": ".py",
   "mimetype": "text/x-python",
   "name": "python",
   "nbconvert_exporter": "python",
   "pygments_lexer": "ipython3",
   "version": "3.9.13"
  }
 },
 "nbformat": 4,
 "nbformat_minor": 5
}
